{
 "cells": [
  {
   "cell_type": "code",
   "execution_count": 28,
   "metadata": {
    "collapsed": true
   },
   "outputs": [],
   "source": [
    "import numpy as np\n",
    "import pandas as pd\n",
    "import random\n",
    "import tensorflow as tf\n",
    "import matplotlib.pyplot as plt\n",
    "%matplotlib inline"
   ]
  },
  {
   "cell_type": "code",
   "execution_count": 29,
   "metadata": {
    "collapsed": true
   },
   "outputs": [],
   "source": [
    "data = pd.read_csv('data.csv') #Three stocks (R,X_s,X_b) Without predictors"
   ]
  },
  {
   "cell_type": "code",
   "execution_count": 37,
   "metadata": {},
   "outputs": [
    {
     "name": "stdout",
     "output_type": "stream",
     "text": [
      "[[0.036518667000000005 0.0070776669999999993]]\n"
     ]
    },
    {
     "data": {
      "text/plain": [
       "0.01"
      ]
     },
     "execution_count": 37,
     "metadata": {},
     "output_type": "execute_result"
    }
   ],
   "source": [
    "s= data.iloc[1,2:4].values.reshape(1,2)\n",
    "print(s)\n",
    "# print(A)\n",
    "# random.choice(A)\n",
    "# A.size\n",
    "s[0][0]"
   ]
  },
  {
   "cell_type": "code",
   "execution_count": 33,
   "metadata": {
    "collapsed": true
   },
   "outputs": [],
   "source": [
    "#Initialize Neural Network and set-up the placeholders\n",
    "tf.reset_default_graph()\n",
    "NN_input = tf.placeholder(shape=[1,2],dtype=tf.float32)\n",
    "NN_weights = tf.Variable(tf.random_uniform([2,101],0,0.01))\n",
    "Q_FA = tf.matmul(NN_input,NN_weights)\n",
    "A_Max = tf.argmax(Q_FA,1)\n",
    "\n",
    "# Calculate loss for the NN from the Q values\n",
    "Q_Next = tf.placeholder(shape=[1,101],dtype=tf.float32)\n",
    "loss = tf.reduce_sum(tf.square(Q_Next - Q_FA))\n",
    "trainer = tf.train.GradientDescentOptimizer(learning_rate=0.1)\n",
    "updateModel = trainer.minimize(loss)\n",
    "\n",
    "#Define Action Matrix (Now discrete case) \n",
    "A = np.arange(0,1.01,0.01) # portfolio weights of stocks (1-weight) is the weight in the bonds\n",
    "# A = np.matrix([[0.0, 0.0, 0.0],[0.1,0.1,0.1],[0.2,0.2,0.2],[-0.1,0.0,0.0],[-0.2,0.0,0.0],[0.0,-0.1,0.0],[0.0,0.0,-0.1],[0.0,-0.2,0.0],[0.0,0.0,-0.2],[-0.2,-0.2,-0.2]])"
   ]
  },
  {
   "cell_type": "code",
   "execution_count": 57,
   "metadata": {},
   "outputs": [
    {
     "name": "stdout",
     "output_type": "stream",
     "text": [
      "Average reward per episode: [ 1.63856748]\n"
     ]
    }
   ],
   "source": [
    "# initialize\n",
    "init = tf.global_variables_initializer()\n",
    "gamma = 1 \n",
    "epsilon = 0.1\n",
    "train_data = 241 # also an expanding window\n",
    "jList = []\n",
    "TWlist = []\n",
    "\n",
    "with tf.Session() as sess:\n",
    "    for i in range(train_data):\n",
    "        #Initilization\n",
    "        sess.run(init) # initialize the \n",
    "        s = data.iloc[i,2:4].values.reshape(1,2)\n",
    "        rAll = 0\n",
    "        j = 0\n",
    "        rTot = 0\n",
    "        \n",
    "        #Training of the Q-Network for the data available(with Neural Nets) \n",
    "        while j < 120:\n",
    "            j+=1\n",
    "            #Choose an action by greedily (with e chance of random action) from the Q-network\n",
    "            a_int,allQ = sess.run([A_Max,Q_FA],feed_dict={NN_input:s})\n",
    "            a = A[a_int-1]  # -1 because the output neurons are labeled 1 till 101 and it will be an index\n",
    "            if np.random.rand(1) < epsilon:\n",
    "                a = random.choice(A)\n",
    "                \n",
    "            #Get new state and reward from environment\n",
    "            s1 = data.iloc[j+i,2:4].values.reshape(1,2)\n",
    "            r = (a*s1[0][0] + (1-a)*s1[0][1]) #reward: this is now the wealth gained from this step, but could be other rewards like utility\n",
    "            Q = sess.run(Q_FA,feed_dict={NN_input:s1})\n",
    "            \n",
    "            #Obtain maxQ' and set our target value for chosen action.\n",
    "            Q1 = np.max(Q)\n",
    "            targetQ = allQ\n",
    "            targetQ[0,a_int] = r + gamma*Q1\n",
    " \n",
    "            #Train our network using target and predicted Q values\n",
    "            _,W1 = sess.run([updateModel,NN_input],feed_dict={NN_input:s,Q_Next:targetQ})\n",
    "            rAll += r\n",
    "            s = s1\n",
    "            if j > 200:\n",
    "                # increase the random actions over time in order to improve exploitation rather than exploration\n",
    "                # only increase exploitation when a good action has been found (otherwise one exploits a bad solution)\n",
    "                e = 1./((i/50) + 10)\n",
    "                break\n",
    "            rTot += r\n",
    "            TW = np.exp(rTot)\n",
    "        jList.append(j)\n",
    "        TWList.append(TW)\n",
    "\n"
   ]
  },
  {
   "cell_type": "code",
   "execution_count": 58,
   "metadata": {},
   "outputs": [
    {
     "data": {
      "text/plain": [
       "1.6385674846369382"
      ]
     },
     "execution_count": 58,
     "metadata": {},
     "output_type": "execute_result"
    },
    {
     "data": {
      "image/png": "[encoded data removed]",
      "text/plain": [
       "<matplotlib.figure.Figure at 0x2654bc5b400>"
      ]
     },
     "metadata": {},
     "output_type": "display_data"
    }
   ],
   "source": [
    "plt.plot(rList)\n",
    "np.mean(rList)"
   ]
  },
  {
   "cell_type": "code",
   "execution_count": 44,
   "metadata": {},
   "outputs": [
    {
     "data": {
      "text/plain": [
       "[<matplotlib.lines.Line2D at 0x2654a803e80>]"
      ]
     },
     "execution_count": 44,
     "metadata": {},
     "output_type": "execute_result"
    },
    {
     "data": {
      "image/png": "[encoded data removed]",
      "text/plain": [
       "<matplotlib.figure.Figure at 0x2654a6ec2b0>"
      ]
     },
     "metadata": {},
     "output_type": "display_data"
    }
   ],
   "source": [
    "plt.plot(jList)"
   ]
  }
 ],
 "metadata": {
  "kernelspec": {
   "display_name": "Python 3",
   "language": "python",
   "name": "python3"
  },
  "language_info": {
   "codemirror_mode": {
    "name": "ipython",
    "version": 3
   },
   "file_extension": ".py",
   "mimetype": "text/x-python",
   "name": "python",
   "nbconvert_exporter": "python",
   "pygments_lexer": "ipython3",
   "version": "3.6.1"
  }
 },
 "nbformat": 4,
 "nbformat_minor": 2
}
