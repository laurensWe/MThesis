{
 "cells": [
  {
   "cell_type": "markdown",
   "metadata": {},
   "source": [
    "# Reinforcement Q-learning simple NN as function approximation\n",
    "\n",
    "- portfolio grid of size 10 (0 to 1)\n",
    "- 1 hidden neural layers \n",
    "- Improved by Dropout "
   ]
  },
  {
   "cell_type": "code",
   "execution_count": 1,
   "metadata": {
    "collapsed": true
   },
   "outputs": [],
   "source": [
    "# Initialization\n",
    "import numpy as np\n",
    "import pandas as pd\n",
    "import random\n",
    "import tensorflow as tf\n",
    "import matplotlib.pyplot as plt\n",
    "%matplotlib inline"
   ]
  },
  {
   "cell_type": "code",
   "execution_count": 3,
   "metadata": {
    "collapsed": true
   },
   "outputs": [],
   "source": [
    "data = pd.read_csv('data_ext.csv') #Three stocks (R,X_s,X_b,s_nom,s_pe,s_spr) "
   ]
  },
  {
   "cell_type": "code",
   "execution_count": 3,
   "metadata": {
    "collapsed": true
   },
   "outputs": [],
   "source": [
    "data = pd.read_excel('sim_data_CER.xlsx') #Three stocks (R,X_s,X_b) Without predictors"
   ]
  },
  {
   "cell_type": "markdown",
   "metadata": {},
   "source": [
    "# Initialization of the Tensorflow placeholders and the network"
   ]
  },
  {
   "cell_type": "code",
   "execution_count": 4,
   "metadata": {
    "collapsed": true
   },
   "outputs": [],
   "source": [
    "num_stocks=3\n",
    "\n",
    "#Initialize Neural Network and set-up the placeholders\n",
    "tf.reset_default_graph()\n",
    "NN_input = tf.placeholder(shape=[1,num_stocks],dtype=tf.float32)\n",
    "NN_weights = tf.Variable(tf.random_uniform([num_stocks,10],0,1))\n",
    "NN_dropout = tf.nn.dropout(NN_weights,0.2)\n",
    "b = tf.Variable(np.zeros((1,10)), dtype=tf.float32)\n",
    "# Q_FA = tf.tanh(tf.matmul(NN_input,NN_weights) + b)  \n",
    "# Q_FA = tf.nn.relu(tf.matmul(NN_input,NN_dropout) + b)\n",
    "Q_FA = tf.nn.relu(tf.matmul(NN_input,NN_weights) + b)\n",
    "# Q_FA = tf.tanh(tf.matmul(NN_input,NN_dropout) + b)\n",
    "# Q_FA = tf.matmul(NN_input,NN_weights) + b\n",
    "# Q_dropout = tf.nn.dropout(Q_FA,0.2)\n",
    "# A_Max = tf.argmax(Q_dropout,1)\n",
    "A_Max = tf.argmax(Q_FA,1)\n",
    "\n",
    "# Calculate loss for the NN from the Q values\n",
    "Q_Next = tf.placeholder(shape=[1,10],dtype=tf.float32)\n",
    "# loss = tf.reduce_sum(tf.square(Q_Next - Q_FA))\n",
    "# loss = tf.losses.softmax_cross_entropy(onehot_labels=Q_Next,logits=Q_dropout)\n",
    "# # loss = tf.reduce_sum(tf.square(Q_Next - Q_FA))\n",
    "##trainer = tf.train.GradientDescentOptimizer(learning_rate=0.001)\n",
    "# updateModel = trainer.minimize(loss)\n",
    "##updateModel = trainer.minimize(tf.square(Q_Next -Q_FA))\n",
    "loss = tf.reduce_sum(tf.nn.l2_loss(Q_Next-Q_FA))\n",
    "optmzr = tf.train.AdamOptimizer(learning_rate=0.01).minimize(loss)\n",
    "#Define Action Matrix (Now discrete case) \n",
    "A = np.linspace(0,1,10) # portfolio weights of stocks (1-weight) is the weight in the bonds"
   ]
  },
  {
   "cell_type": "markdown",
   "metadata": {},
   "source": [
    "# Training of the NN function approximation"
   ]
  },
  {
   "cell_type": "code",
   "execution_count": null,
   "metadata": {
    "scrolled": false
   },
   "outputs": [
    {
     "name": "stdout",
     "output_type": "stream",
     "text": [
      "240\n"
     ]
    }
   ],
   "source": [
    "# initialize\n",
    "init = tf.global_variables_initializer()\n",
    "gamma = 0.5\n",
    "epsilon = 0.1\n",
    "TWlist = []\n",
    "Index = []\n",
    "MWeights = []\n",
    "Turnover = []\n",
    "chooserlist = []\n",
    "RU = []\n",
    "learningrateQ = 1\n",
    "n = 707\n",
    "startE = 1\n",
    "endE = 0.01\n",
    "periods = 60\n",
    "epochs = 50     # preferred to have a low amount of epochs because otherwise the the same data is used multiple times (usually not the case in stock returns)\n",
    "\n",
    "# data parsing\n",
    "dates = data['Date']\n",
    "# mdata = data[['r','xs','xb','snom','spe','sspr']]\n",
    "mdata = data[['r','xs','xb']]\n",
    "mdata.index = pd.DatetimeIndex(dates)\n",
    "\n",
    "with tf.Session() as sess:\n",
    "    for i in range(240,int(n-periods-1)):\n",
    "        lostlist = []\n",
    "        OptimalWeights = np.zeros(periods-1)\n",
    "        currentK = 0\n",
    "        sess.run(init) # initialize the Neural Network again\n",
    "        \n",
    "        print(i)\n",
    "        rlist = []\n",
    "        NN_data = mdata[0:i+currentK]\n",
    "        \n",
    "        \n",
    "        # Scaling of the returns (otherwise Q values will grow indefinitely)\n",
    "        for x in range(0,len(NN_data)):\n",
    "            for y in range(0,10):\n",
    "                rlist.append(A[y]*NN_data.iloc[x,:][1]+(1-A[y])*NN_data.iloc[x,:][2])\n",
    "\n",
    "        epsilon = 1\n",
    "        learningrateQ = 1\n",
    "        gamma = 0.5\n",
    "        gamma_dec = (1 - 0.5)/(epochs*(int(len(NN_data)+periods)))\n",
    "        lrq_dec = (1-0.01)/(epochs*(int(len(NN_data)+periods)))\n",
    "        epsilon_dec = (startE-endE)/(epochs*(int(len(NN_data)+periods)))\n",
    "            \n",
    "        while currentK < periods - 1:\n",
    "#             if(currentK == 0):\n",
    "#                 NN_data = mdata[0:i+currentK]\n",
    "#             else:\n",
    "#                 NN_data = mdata[i+currentK-100:i+currentK]\n",
    "            NN_data = mdata[0:i+currentK]\n",
    "#             NN_data = mdata[0:i+currentK]  # Expanding window\n",
    "            currentEpoch = 0\n",
    "            for y in range(0,10):\n",
    "                rlist.append(A[y]*NN_data.iloc[-1,:][1]+(1-A[y])*NN_data.iloc[-1,:][2])\n",
    "           \n",
    "                    \n",
    "            indexes = np.asarray(range(len(NN_data)))\n",
    "            np.random.shuffle(indexes)\n",
    "            \n",
    "            while currentEpoch < epochs:\n",
    "                epsilon -= epsilon_dec\n",
    "                gamma += gamma_dec\n",
    "                learningrateQ -= lrq_dec\n",
    "                #Training of the Q-Network for the data available (with Neural Nets) \n",
    "                for j in indexes:\n",
    "                    s = NN_data.iloc[j,:].values.reshape(1,num_stocks)\n",
    "                    #Choose an action by greedily (with e chance of random action) from the Q-network\n",
    "                    a_int,allQ = sess.run([A_Max,Q_FA],feed_dict={NN_input:s})\n",
    "                    a = A[a_int-1]  # -1 because the output neurons are labeled 1 till 101 and it will be an index\n",
    "#                     print(A[a_int-1])\n",
    "                    if np.random.rand(1) < epsilon:\n",
    "                        a = random.choice(A)\n",
    "\n",
    "                    #Get new state and reward from environment\n",
    "#                     print(s)\n",
    "                    \n",
    "                    s1 = mdata.iloc[j+1,:].values.reshape(1,num_stocks)\n",
    "#                     print(s1)\n",
    "#                     print(mdata.iloc[j,:].values)\n",
    "#                     print('x')\n",
    "                    r = (a*s1[0][1] + (1-a)*s1[0][2]) #reward: this is now the wealth gained from this step, but could be other rewards like utility\n",
    "                    Q = sess.run(Q_FA,feed_dict={NN_input:s1})\n",
    "#                     print(Q)\n",
    "                    #Obtain maxQ' and set our target value for chosen action.\n",
    "#                     print(Q)\n",
    "                    Q1 = np.max(Q)\n",
    "                    targetQ = allQ\n",
    "#                     print(targetQ)\n",
    "#                     print((r-rmean)/rstd)\n",
    "                    rmean = np.mean(rlist)\n",
    "                    rstd = np.std(rlist)\n",
    "#                     print((r-rmean)/rstd)\n",
    "#                     print(r)\n",
    "#                     targetQ[0,int(a*9)] = (r-rmean)/rstd + gamma*Q1\n",
    "                    targetQ[0,int(a*9)] = targetQ[0,int(a*9)] + learningrateQ*((r-rmean)/rstd + gamma*Q1 - targetQ[0,int(a*9)]) \n",
    "                    chooserlist.append(r)\n",
    "#                     print(targetQ)\n",
    "                    #Train the neural network using target and predicted Q values\n",
    "                    _,W1,loss_ = sess.run([optmzr,NN_weights,loss],feed_dict={NN_input:s,Q_Next:targetQ})\n",
    "#                     print(W1)\n",
    "                    s =  mdata.iloc[j+1,:].values.reshape(1,num_stocks)\n",
    "                    lostlist.append(loss_)\n",
    "                currentEpoch += 1\n",
    "            \n",
    "\n",
    "            # After training now calculate the optimal weights for the K=60 periods to come\n",
    "            s = mdata.iloc[i+periods,:].values.reshape(1,num_stocks)\n",
    "            a_int,allQ = sess.run([A_Max,Q_FA],feed_dict={NN_input:s})\n",
    "#             print(allQ)\n",
    "#             print(a_int)\n",
    "            aOpt = A[a_int-1]\n",
    "            OptimalWeights[currentK] = aOpt\n",
    "            currentK += 1\n",
    "            \n",
    "        # For insight purposes (Write away)\n",
    "        plt.ion()\n",
    "        plt.plot(lostlist)\n",
    "        plt.show()\n",
    "        plt.plot(chooserlist)\n",
    "        plt.show()\n",
    "        \n",
    "        firstdiff = OptimalWeights[1:] - OptimalWeights[:-1]\n",
    "        MWeights.append(np.mean(OptimalWeights))\n",
    "        TerminalWealth = np.exp(sum(OptimalWeights*mdata[i+1:i+currentK+1]['xs'] + (1-OptimalWeights)*mdata[i+1:i+currentK+1]['xb']))\n",
    "        TWlist.append(TerminalWealth)\n",
    "        Index.append(i)\n",
    "        Turnover.append(sum(abs(firstdiff*np.exp(mdata[i+1:i+currentK]['xs'])) + abs((1-firstdiff)*np.exp(mdata[i+1:i+currentK]['xb']))))\n",
    "        RU.append((1/(1-5))*pow(TerminalWealth,(1-5)))\n",
    "        \n",
    "        print('Writing away results')\n",
    "        df = pd.DataFrame({'index date':Index,'TW':TWlist, 'Mean Weights Xs':MWeights,'Turnover':Turnover, 'Realized Utility':RU})\n",
    "        df.to_excel('NN_test_CER_2.xlsx', sheet_name='sheet1', index=False)\n",
    "print('Done!')\n",
    "        "
   ]
  },
  {
   "cell_type": "code",
   "execution_count": null,
   "metadata": {
    "collapsed": true
   },
   "outputs": [],
   "source": []
  }
 ],
 "metadata": {
  "kernelspec": {
   "display_name": "Python 3",
   "language": "python",
   "name": "python3"
  },
  "language_info": {
   "codemirror_mode": {
    "name": "ipython",
    "version": 3
   },
   "file_extension": ".py",
   "mimetype": "text/x-python",
   "name": "python",
   "nbconvert_exporter": "python",
   "pygments_lexer": "ipython3",
   "version": "3.6.1"
  }
 },
 "nbformat": 4,
 "nbformat_minor": 2
}
