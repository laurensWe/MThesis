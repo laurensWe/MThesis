{
 "cells": [
  {
   "cell_type": "markdown",
   "metadata": {},
   "source": [
    "# Reinforcement Q-learning simple NN as function approximation\n",
    "\n",
    "- portfolio grid of size 10 (0 to 1)\n",
    "- 1 hidden neural layers \n",
    "- Improved by Dropout "
   ]
  },
  {
   "cell_type": "code",
   "execution_count": 2,
   "metadata": {
    "collapsed": true
   },
   "outputs": [],
   "source": [
    "# Initialization\n",
    "import numpy as np\n",
    "import pandas as pd\n",
    "import random\n",
    "import tensorflow as tf\n",
    "import matplotlib.pyplot as plt\n",
    "%matplotlib inline"
   ]
  },
  {
   "cell_type": "code",
   "execution_count": 3,
   "metadata": {
    "collapsed": true
   },
   "outputs": [],
   "source": [
    "data = pd.read_csv('data.csv') #Three stocks (R,X_s,X_b,s_nom,s_pe,s_spr) "
   ]
  },
  {
   "cell_type": "code",
   "execution_count": 4,
   "metadata": {
    "collapsed": true
   },
   "outputs": [],
   "source": [
    "data = pd.read_excel('sim_data_CER.xlsx') #Three stocks (R,X_s,X_b) Without predictors"
   ]
  },
  {
   "cell_type": "markdown",
   "metadata": {},
   "source": [
    "# Initialization of the Tensorflow placeholders and the network"
   ]
  },
  {
   "cell_type": "code",
   "execution_count": 5,
   "metadata": {
    "collapsed": true
   },
   "outputs": [],
   "source": [
    "num_stocks=3\n",
    "\n",
    "def sigmoid(x):\n",
    "    return tf.div(tf.constant(1.0), tf.add(tf.constant(1.0), tf.exp(tf.negative(x))))\n",
    "\n",
    "def sigmoidprime(x):\n",
    "    return tf.multiply(sigma(x),tf.substract(tf.constant(1.0), sigma(x)))\n",
    "\n",
    "#Initialize Neural Network and set-up the placeholders\n",
    "tf.reset_default_graph()\n",
    "NN_input = tf.placeholder(shape=[1,num_stocks],dtype=tf.float32)\n",
    "w1 = tf.Variable(tf.random_uniform([num_stocks,5],0,1))\n",
    "w2 = tf.Variable(tf.random_uniform([5,10],0,1))\n",
    "b1 = tf.Variable(np.zeros((1,5)), dtype=tf.float32)\n",
    "b2 = tf.Variable(np.zeros((1,10)), dtype=tf.float32)\n",
    "\n",
    "\n",
    "z1 = tf.add(tf.matmul(NN_input,w1),b1)\n",
    "a1 = sigmoid(z1)\n",
    "\n",
    "z2 = tf.add(tf.matmul(a1,w2),b2)\n",
    "a2 = sigmoid(z2)\n",
    "\n",
    "A_Max = tf.argmax(a2,1)\n",
    "# Calculate loss for the NN from the Q values\n",
    "Q_Next = tf.placeholder(shape=[1,10],dtype=tf.float32)\n",
    "diff = tf.subtract(Q_Next,a2)\n",
    "loss = tf.multiply(diff,diff)\n",
    "optmzr = tf.train.GradientDescentOptimizer(learning_rate=0.01).minimize(loss)\n",
    "A = np.linspace(0,1,10) # portfolio weights of stocks (1-weight) is the weight in the bonds"
   ]
  },
  {
   "cell_type": "markdown",
   "metadata": {},
   "source": [
    "# Training of the NN function approximation"
   ]
  },
  {
   "cell_type": "code",
   "execution_count": null,
   "metadata": {
    "scrolled": false
   },
   "outputs": [
    {
     "name": "stdout",
     "output_type": "stream",
     "text": [
      "240\n"
     ]
    },
    {
     "data": {
      "image/png": "[encoded data removed]",
      "text/plain": [
       "<matplotlib.figure.Figure at 0x2af53516208>"
      ]
     },
     "metadata": {},
     "output_type": "display_data"
    },
    {
     "data": {
      "image/png": "[encoded data removed]",
      "text/plain": [
       "<matplotlib.figure.Figure at 0x2af54df9320>"
      ]
     },
     "metadata": {},
     "output_type": "display_data"
    },
    {
     "name": "stdout",
     "output_type": "stream",
     "text": [
      "[ 0.88888889  0.66666667  0.77777778  0.        ]\n",
      "1.01522453738\n",
      "Writing away results\n",
      "241\n"
     ]
    }
   ],
   "source": [
    "# initialize\n",
    "init = tf.global_variables_initializer()\n",
    "gamma = 0.95\n",
    "epsilon = 0.1\n",
    "TWlist = []\n",
    "Index = []\n",
    "MWeights = []\n",
    "Turnover = []\n",
    "chooserlist = []\n",
    "RU = []\n",
    "learningrateQ = 1\n",
    "n = 707\n",
    "periods = 5\n",
    "epochs = 10     # preferred to have a low amount of epochs because otherwise the the same data is used multiple times (usually not the case in stock returns)\n",
    "\n",
    "# data parsing\n",
    "dates = data['Date']\n",
    "mdata = data[['r','xs','xb']]\n",
    "mdata.index = pd.DatetimeIndex(dates)\n",
    "\n",
    "with tf.Session() as sess:\n",
    "    for i in range(240,int(n-periods-1)):\n",
    "        lostlist = []\n",
    "        OptimalWeights = np.zeros(periods-1)\n",
    "        currentK = 0\n",
    "        \n",
    "        print(i)\n",
    "        rlist = []\n",
    "            \n",
    "        while currentK < periods - 1:\n",
    "            sess.run(init) # initialize the Neural Network again\n",
    "            NN_data = mdata[0:i+currentK]\n",
    "            currentEpoch = 0\n",
    "            for y in range(0,10):\n",
    "                rlist.append(A[y]*NN_data.iloc[-1,:]['xs']+(1-A[y])*NN_data.iloc[-1,:]['xb'])\n",
    "           \n",
    "                    \n",
    "            indexes = np.asarray(range(len(NN_data)))\n",
    "#             np.random.shuffle(indexes)/\n",
    "            \n",
    "            while currentEpoch < epochs:\n",
    "                #Training of the Q-Network for the data available (with Neural Nets) \n",
    "                for j in indexes:\n",
    "                    s = NN_data.iloc[j,:].values.reshape(1,num_stocks)\n",
    "                    #Choose an action by greedily (with e chance of random action) from the Q-network\n",
    "                    a_int,allQ = sess.run([A_Max,a2],feed_dict={NN_input:s})\n",
    "                    a = A[a_int-1]  # -1 because the output neurons arVFHe labeled 1 till 101 and it will be an index\n",
    "                    if np.random.rand(1) < epsilon:\n",
    "                        a = random.choice(A)\n",
    "\n",
    "                    #Get new state and reward from environment\n",
    "                    s1 = mdata.iloc[j+1,:].values.reshape(1,num_stocks)\n",
    "                    r = (a*s1[0][1] + (1-a)*s1[0][2]) #reward: this is now the wealth gained from this step, but could be other rewards like utility\n",
    "                    Q = sess.run(a2,feed_dict={NN_input:s1})\n",
    "                    rlist.append(r)\n",
    "                    #Obtain maxQ' and set our target value for chosen action.\n",
    "                    Q1 = np.max(Q)\n",
    "                    targetQ = allQ\n",
    "                    rstd = np.std(rlist)\n",
    "#                     targetQ[0,int(a*9)] = targetQ[0,int(a*9)] + learningrateQ*((r-rmean)/rstd + gamma*Q1 - targetQ[0,int(a*9)]) \n",
    "#                     targetQ[0,int(a*9)] = targetQ[0,int(a*9)] + learningrateQ*(r-rstd + gamma*Q1 - targetQ[0,int(a*9)]) \n",
    "                    targetQ[0,int(a*9)] = r-rstd + gamma*Q1\n",
    "                    #Train the neural network using target and predicted Q values\n",
    "                    _,W1,loss_ = sess.run([optmzr,w1,loss],feed_dict={NN_input:s,Q_Next:targetQ})\n",
    "                    s =  mdata.iloc[j+1,:].values.reshape(1,num_stocks)\n",
    "                    lostlist.append(sum(sum(loss_)))\n",
    "                currentEpoch += 1\n",
    "            \n",
    "\n",
    "            # After training now calculate the optimal weights for the K=60 periods to come\n",
    "            s = mdata.iloc[i+periods,:].values.reshape(1,num_stocks)\n",
    "            a_int,allQ = sess.run([A_Max,z2],feed_dict={NN_input:s})\n",
    "            aOpt = A[a_int-1]\n",
    "            OptimalWeights[currentK] = aOpt\n",
    "            currentK += 1\n",
    "            \n",
    "        # For insight purposes (Write away)\n",
    "        plt.ion()\n",
    "        plt.plot(lostlist)\n",
    "        plt.show()\n",
    "        plt.plot(rlist)\n",
    "        plt.show()\n",
    "        \n",
    "        firstdiff = OptimalWeights[1:] - OptimalWeights[:-1]\n",
    "        MWeights.append(np.mean(OptimalWeights))\n",
    "        TerminalWealth = np.exp(sum(OptimalWeights*mdata[i+1:i+currentK+1]['xs'] + (1-OptimalWeights)*mdata[i+1:i+currentK+1]['xb']))\n",
    "        TWlist.append(TerminalWealth)\n",
    "        Index.append(i)\n",
    "        Turnover.append(sum(abs(firstdiff*np.exp(mdata[i+1:i+currentK]['xs'])) + abs((1-firstdiff)*np.exp(mdata[i+1:i+currentK]['xb']))))\n",
    "        RU.append((1/(1-5))*pow(TerminalWealth,(1-5)))\n",
    "        print(OptimalWeights)\n",
    "        print(TerminalWealth)\n",
    "        \n",
    "        print('Writing away results')\n",
    "        df = pd.DataFrame({'index date':Index,'TW':TWlist, 'Mean Weights Xs':MWeights,'Turnover':Turnover, 'Realized Utility':RU})\n",
    "        df.to_excel('NN_test_CER_2(1).xlsx', sheet_name='sheet1', index=False)\n",
    "print('Done!')\n",
    "        "
   ]
  }
 ],
 "metadata": {
  "kernelspec": {
   "display_name": "Python 3",
   "language": "python",
   "name": "python3"
  },
  "language_info": {
   "codemirror_mode": {
    "name": "ipython",
    "version": 3
   },
   "file_extension": ".py",
   "mimetype": "text/x-python",
   "name": "python",
   "nbconvert_exporter": "python",
   "pygments_lexer": "ipython3",
   "version": "3.6.1"
  }
 },
 "nbformat": 4,
 "nbformat_minor": 2
}
