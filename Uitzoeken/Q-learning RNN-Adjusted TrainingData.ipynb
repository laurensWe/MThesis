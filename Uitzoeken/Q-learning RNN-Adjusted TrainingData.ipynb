{
 "cells": [
  {
   "cell_type": "markdown",
   "metadata": {
    "collapsed": true
   },
   "source": [
    "# Reinforcement Q-learning with RNN as function approximation\n",
    "\n",
    "- portfolio grid of size 10 (0 to 1)\n",
    "- 2 hidden neural layers with the first one being the recurrent layer (also has the weights of the previous 3 states as input)\n",
    "- Improved by Dropout \n",
    "- Transaction costs "
   ]
  },
  {
   "cell_type": "code",
   "execution_count": 1,
   "metadata": {
    "collapsed": true
   },
   "outputs": [],
   "source": [
    "# initialization\n",
    "import numpy as np\n",
    "import pandas as pd\n",
    "import random\n",
    "import tensorflow as tf\n",
    "from random import randint\n",
    "import matplotlib.pyplot as plt\n",
    "%matplotlib inline"
   ]
  },
  {
   "cell_type": "code",
   "execution_count": 2,
   "metadata": {
    "collapsed": true
   },
   "outputs": [],
   "source": [
    "# import real data\n",
    "mdata = pd.read_csv('data_ext.csv') #Three stocks (R,X_s,X_b) Without predictors\n",
    "mdata = np.array(mdata[['r','xs','xb','snom','spe','sspr']])"
   ]
  },
  {
   "cell_type": "code",
   "execution_count": 2,
   "metadata": {
    "collapsed": true
   },
   "outputs": [],
   "source": [
    "# import real data\n",
    "mdata = pd.read_excel('sim_data_CER.xlsx') #Three stocks (R,X_s,X_b) Without predictors\n",
    "mdata = np.array(mdata[['r','xs','xb']])"
   ]
  },
  {
   "cell_type": "code",
   "execution_count": 3,
   "metadata": {
    "collapsed": true
   },
   "outputs": [],
   "source": [
    "#hyperparameters\n",
    "series_length = 15                                           \n",
    "batch_size = 1                                              \n",
    "truncated_backprop_length = series_length//batch_size       # How many previous stock returns to take as input for the model\n",
    "state_size = 4                                              # Number of nodes in the first hidden layer\n",
    "num_classes = 10                                            # Number of classes to predict (10 actions possible so 10 classes)\n",
    "echo_step = 3                                               # How many previous states the neural network takes as input\n",
    "num_stocks = 6                                              # Amount of stocks into consideration\n",
    "gamma = 0.95                                                   # Discount factor of future Q-values\n",
    "epsilon = 0.1                                               # For the randomization of actions\n",
    "# n = mdata.size/7-4                                          # Length of the total data\n",
    "n = 707\n",
    "periods = 60                                                # How many periods in the future to predict\n",
    "epochs = 5                                                  # Amount of iterations to train the Neural Network\n",
    "TC = 0                                                      # Percentage of transaction costs\n",
    "dropout_prob = (1 - 0.8)                                    # Percentage of neuron nodes to keep in the Network using dropout\n",
    "qlearningrate = 0.1"
   ]
  },
  {
   "cell_type": "markdown",
   "metadata": {},
   "source": [
    "# Initialization of the Tensorflow placeholders and the network"
   ]
  },
  {
   "cell_type": "code",
   "execution_count": 7,
   "metadata": {
    "collapsed": true
   },
   "outputs": [],
   "source": [
    "#Initialize Recurrent Neural Network and set-up the placeholders\n",
    "tf.reset_default_graph()\n",
    "NN_input = tf.placeholder(tf.float32, [num_stocks, batch_size, truncated_backprop_length])\n",
    "init_state = tf.placeholder(tf.float32, [num_stocks, batch_size, state_size])\n",
    "Q_Next = tf.placeholder(tf.float32, [truncated_backprop_length, batch_size, num_classes])\n",
    "\n",
    "# Weights and biases\n",
    "W = tf.Variable(np.random.rand(num_stocks, state_size+1, state_size), dtype=tf.float32)\n",
    "b = tf.Variable(np.zeros((num_stocks,1,state_size)), dtype=tf.float32)\n",
    "W2 = tf.Variable(np.random.rand(num_stocks, state_size, num_classes),dtype=tf.float32)\n",
    "b2 = tf.Variable(np.zeros((num_stocks, 1,num_classes)), dtype=tf.float32)\n",
    "\n",
    "# Actually all transformations need their own weigths and biases!!\n",
    "# Feature for later\n",
    "\n",
    "inputs_series = tf.unstack(NN_input, axis=2)\n",
    "labels_series = tf.unstack(Q_Next, axis=0)\n",
    "\n",
    "#Forward pass\n",
    "current_state = init_state\n",
    "states_series = []\n",
    "\n",
    "for current_input in inputs_series:\n",
    "    current_input = tf.reshape(current_input, [num_stocks,batch_size, 1])\n",
    "    input_and_state_concatenated = tf.concat([current_input, current_state],axis=2)  # Increasing number of columns\n",
    "    next_state = tf.tanh(tf.matmul(input_and_state_concatenated,W) + b)  # Broadcasted addition\n",
    "    dropout_state = tf.nn.dropout(next_state,dropout_prob)     # DROPOUT\n",
    "    states_series.append(dropout_state)\n",
    "    current_state = next_state\n",
    "\n",
    "#calculate loss\n",
    "Q_FA = [tf.nn.relu(tf.matmul(state, W2) + b2) for state in states_series]\n",
    "# dropout_Q = tf.nn.dropout(Q_FA,dropout_prob)    # DROPOUT\n",
    "# Q_FA = tf.reduce_sum(dropout_Q,axis=1)\n",
    "Q_FA = tf.reduce_sum(Q_FA,axis=1)\n",
    "A_Max = tf.argmax(Q_FA[-1],1) # only use the latest Q of the RNN for the determination of the optimal weights\n",
    "Q_series = tf.unstack(Q_FA, axis=0)\n",
    "\n",
    "# Calculate loss for the NN from the Q values\n",
    "losses = [ abs(logits - labels) for logits, labels in zip(Q_series,labels_series)]\n",
    "total_loss = tf.reduce_mean(losses)\n",
    "# loss = tf.reduce_sum(tf.square(Q_Next - Q_FA))\n",
    "trainer = tf.train.GradientDescentOptimizer(learning_rate=0.001)\n",
    "updateModel = trainer.minimize(total_loss)\n",
    "\n",
    "#Define Action Matrix (Now discrete case) \n",
    "A = np.linspace(0,1,10) # portfolio weights of stocks (1-weight) is the weight in the bonds"
   ]
  },
  {
   "cell_type": "markdown",
   "metadata": {},
   "source": [
    "# Training of the RNN function approximation"
   ]
  },
  {
   "cell_type": "code",
   "execution_count": 8,
   "metadata": {
    "scrolled": true
   },
   "outputs": [
    {
     "name": "stdout",
     "output_type": "stream",
     "text": [
      "451\n"
     ]
    },
    {
     "data": {
      "image/png": "[encoded data removed]",
      "text/plain": [
       "<matplotlib.figure.Figure at 0x114b7fef208>"
      ]
     },
     "metadata": {},
     "output_type": "display_data"
    },
    {
     "data": {
      "image/png": "[encoded data removed]",
      "text/plain": [
       "<matplotlib.figure.Figure at 0x114b92b9828>"
      ]
     },
     "metadata": {},
     "output_type": "display_data"
    },
    {
     "ename": "ValueError",
     "evalue": "operands could not be broadcast together with shapes (59,) (0,) ",
     "output_type": "error",
     "traceback": [
      "\u001b[1;31m---------------------------------------------------------------------------\u001b[0m",
      "\u001b[1;31mValueError\u001b[0m                                Traceback (most recent call last)",
      "\u001b[1;32m<ipython-input-8-753868df5631>\u001b[0m in \u001b[0;36m<module>\u001b[1;34m()\u001b[0m\n\u001b[0;32m     89\u001b[0m \u001b[1;31m#         x = mdata[i+currentK+j+truncated_backprop_length+1,1:4]\u001b[0m\u001b[1;33m\u001b[0m\u001b[1;33m\u001b[0m\u001b[0m\n\u001b[0;32m     90\u001b[0m         \u001b[0mx\u001b[0m \u001b[1;33m=\u001b[0m \u001b[0mmdata\u001b[0m\u001b[1;33m[\u001b[0m\u001b[0mend\u001b[0m \u001b[1;33m+\u001b[0m \u001b[0mtruncated_backprop_length\u001b[0m \u001b[1;33m-\u001b[0m \u001b[0mcurrentK\u001b[0m\u001b[1;33m:\u001b[0m\u001b[0mend\u001b[0m\u001b[1;33m+\u001b[0m\u001b[0mtruncated_backprop_length\u001b[0m\u001b[1;33m,\u001b[0m\u001b[1;36m1\u001b[0m\u001b[1;33m:\u001b[0m\u001b[1;36m4\u001b[0m\u001b[1;33m]\u001b[0m\u001b[1;33m\u001b[0m\u001b[0m\n\u001b[1;32m---> 91\u001b[1;33m         \u001b[0mTerminalWealth\u001b[0m \u001b[1;33m=\u001b[0m \u001b[0mnp\u001b[0m\u001b[1;33m.\u001b[0m\u001b[0mexp\u001b[0m\u001b[1;33m(\u001b[0m\u001b[0msum\u001b[0m\u001b[1;33m(\u001b[0m\u001b[0mOptimalWeights\u001b[0m\u001b[1;33m*\u001b[0m\u001b[0mx\u001b[0m\u001b[1;33m[\u001b[0m\u001b[1;33m:\u001b[0m\u001b[1;33m,\u001b[0m\u001b[1;36m0\u001b[0m\u001b[1;33m]\u001b[0m \u001b[1;33m+\u001b[0m \u001b[1;33m(\u001b[0m\u001b[1;36m1\u001b[0m\u001b[1;33m-\u001b[0m\u001b[0mOptimalWeights\u001b[0m\u001b[1;33m)\u001b[0m\u001b[1;33m*\u001b[0m\u001b[0mx\u001b[0m\u001b[1;33m[\u001b[0m\u001b[1;33m:\u001b[0m\u001b[1;33m,\u001b[0m\u001b[1;36m1\u001b[0m\u001b[1;33m]\u001b[0m\u001b[1;33m)\u001b[0m\u001b[1;33m)\u001b[0m\u001b[1;33m\u001b[0m\u001b[0m\n\u001b[0m\u001b[0;32m     92\u001b[0m         \u001b[0mTWlist\u001b[0m\u001b[1;33m.\u001b[0m\u001b[0mappend\u001b[0m\u001b[1;33m(\u001b[0m\u001b[0mTerminalWealth\u001b[0m\u001b[1;33m)\u001b[0m\u001b[1;33m\u001b[0m\u001b[0m\n\u001b[0;32m     93\u001b[0m         \u001b[0mIndex\u001b[0m\u001b[1;33m.\u001b[0m\u001b[0mappend\u001b[0m\u001b[1;33m(\u001b[0m\u001b[0mi\u001b[0m\u001b[1;33m)\u001b[0m\u001b[1;33m\u001b[0m\u001b[0m\n",
      "\u001b[1;31mValueError\u001b[0m: operands could not be broadcast together with shapes (59,) (0,) "
     ]
    }
   ],
   "source": [
    "### initialization for insight series\n",
    "TWlist = []\n",
    "Index = []\n",
    "MWeights = []\n",
    "Turnover = []\n",
    "RU = []\n",
    "AllWeights = []\n",
    "\n",
    "with tf.Session() as sess:\n",
    "    for i in range(451,497):\n",
    "        OptimalWeights = np.zeros(periods-1)\n",
    "        currentK = 0;\n",
    "        print(i)\n",
    "        sess.run(tf.global_variables_initializer()) # initialize the Neural Network again\n",
    "        rlist = []\n",
    "        end = 0\n",
    "        \n",
    "        while currentK < periods - 1:\n",
    "            #Initilization\n",
    "            if currentK > 0:\n",
    "                NN_data = mdata[i+currentK-20:i+currentK]\n",
    "            else:\n",
    "                NN_data = mdata[0:i+currentK]  # rolling window\n",
    "            #initialize an empty hidden state\n",
    "            _current_state = np.zeros((num_stocks, batch_size, state_size))\n",
    "            # NN_data = mdata[0:i+currentK]   #Expanding window\n",
    "            rAll = 0\n",
    "            currentEpoch = 0\n",
    "            \n",
    "            while currentEpoch < epochs:\n",
    "                a_old = 0\n",
    "                epoch_loss = []\n",
    "                \n",
    "                # Randomizing of the data by the indexes\n",
    "                indexes = np.asarray(range(0,len(NN_data)-truncated_backprop_length-1))\n",
    "                end = len(NN_data)-truncated_backprop_length-1\n",
    "                np.random.shuffle(indexes)\n",
    "                \n",
    "                #Training of the Q-Network for the data available (with Neural Nets) \n",
    "                for j in indexes:\n",
    "                    s = NN_data[j:j+truncated_backprop_length,0:num_stocks].reshape(num_stocks,batch_size,truncated_backprop_length)\n",
    "                    #Choose an action by greedily (with e chance of random action) from the Q-network\n",
    "                    a_int,allQ = sess.run([A_Max,Q_FA],feed_dict={NN_input:s, init_state:_current_state})\n",
    "                    a = A[a_int-1]  # -1 because the output neurons are labeled 1 till 101 and it will be an index\n",
    "                    if np.random.rand(1) < epsilon:\n",
    "                        a = random.choice(A)\n",
    "\n",
    "                    #Get new state and reward from environment\n",
    "                    s1 = NN_data[j+truncated_backprop_length:j+truncated_backprop_length+1,1:4]\n",
    "#                   s1 = mdata[i+currentK+j+truncated_backprop_length+1,1:4]\n",
    "                    r = (a*s1[0][0] + (1-a)*s1[0][1] - TC*abs(a-a_old)) #reward: this is now the wealth gained from this step, but could be other rewards like utility\n",
    "                    rlist.append(r)\n",
    "                    ## idea: ADD also exp(s1) to the transaction costs\n",
    "                    a_old = a\n",
    "                    s1 = NN_data[j+1:j+truncated_backprop_length+1,0:num_stocks].reshape(num_stocks,batch_size,truncated_backprop_length)\n",
    "                    Q = sess.run(Q_FA,feed_dict={NN_input:s1, init_state:_current_state})\n",
    "                    \n",
    "                    #Obtain maxQ' and set our target value for chosen action.\n",
    "                    Q1 = np.max(Q[-1])\n",
    "                    targetQ = allQ\n",
    "#                     targetQ[-1,0,int(a*9)] = r + gamma*Q1\n",
    "                    targetQ[-1,0,int(a*9)] = targetQ[-1,0,int(a*9)] + qlearningrate*(r + gamma*Q1 - targetQ[-1,0,int(a*9)]) \n",
    "            \n",
    "                    ### idea: Print the losses \n",
    "        \n",
    "                    #Train the neural network using target and predicted Q values\n",
    "                    s = s1\n",
    "                    _,_current_state,W1,_total_loss = sess.run([updateModel,current_state,NN_input,total_loss],feed_dict={NN_input:s,Q_Next:targetQ, init_state:_current_state})\n",
    "                    epoch_loss.append(_total_loss)\n",
    "                currentEpoch += 1\n",
    "#                 print(sum(epoch_loss))\n",
    "                    \n",
    "            # After training now calculate the optimal weights for the K=60 periods to come\n",
    "            s1 = NN_data[end:end+truncated_backprop_length,0:num_stocks].reshape(num_stocks,batch_size,truncated_backprop_length)\n",
    "            a_int,allQ = sess.run([A_Max,Q_FA],feed_dict={NN_input:s, init_state:_current_state})\n",
    "            aOpt = A[a_int-1]\n",
    "            OptimalWeights[currentK] = aOpt\n",
    "            currentK += 1\n",
    "        \n",
    "        plt.ion()\n",
    "        plt.plot(epoch_loss)\n",
    "        plt.show()\n",
    "        plt.plot(rlist)\n",
    "        plt.show()\n",
    "        \n",
    "        firstdiff = OptimalWeights[1:] - OptimalWeights[:-1]\n",
    "        # For insight purposes\n",
    "        MWeights.append(np.mean(OptimalWeights))\n",
    "#         x = mdata[i+currentK+j+truncated_backprop_length+1,1:4]\n",
    "        x = mdata[end + truncated_backprop_length - currentK:end+truncated_backprop_length,1:4]\n",
    "        TerminalWealth = np.exp(sum(OptimalWeights*x[:,0] + (1-OptimalWeights)*x[:,1]))\n",
    "        TWlist.append(TerminalWealth)\n",
    "        Index.append(i)\n",
    "        # Turnover\n",
    "        Turnover.append(sum(abs(firstdiff*np.exp(mdata[i+1:i+currentK,1])) + abs((1-firstdiff)*np.exp(mdata[i+1:i+currentK,2]))))\n",
    "        # Realized Utility\n",
    "        RU.append((1/(1-5))*pow(TerminalWealth,(1-5)))\n",
    "        AllWeights.append(OptimalWeights)\n",
    "        \n",
    "        print('Writing away results')\n",
    "        df = pd.DataFrame({'index date':Index,'TW':TWlist, 'Mean Weights Xs':MWeights,'Turnover':Turnover, 'Realized Utility':RU})\n",
    "        df.to_excel('RNN_5e_traindataLess.xlsx', sheet_name='sheet1', index=False)\n",
    "        dfweights = pd.DataFrame({'Weights':AllWeights})\n",
    "        dfweights.to_excel('AllWeights_RNN_e5_traindataLess.xlsx')\n",
    "        \n",
    "    # close session\n",
    "plt.plot(MWeights)\n",
    "plt.plot(TWlist)"
   ]
  },
  {
   "cell_type": "code",
   "execution_count": 15,
   "metadata": {
    "collapsed": true
   },
   "outputs": [],
   "source": []
  }
 ],
 "metadata": {
  "kernelspec": {
   "display_name": "Python 3",
   "language": "python",
   "name": "python3"
  },
  "language_info": {
   "codemirror_mode": {
    "name": "ipython",
    "version": 3
   },
   "file_extension": ".py",
   "mimetype": "text/x-python",
   "name": "python",
   "nbconvert_exporter": "python",
   "pygments_lexer": "ipython3",
   "version": "3.6.1"
  }
 },
 "nbformat": 4,
 "nbformat_minor": 2
}
